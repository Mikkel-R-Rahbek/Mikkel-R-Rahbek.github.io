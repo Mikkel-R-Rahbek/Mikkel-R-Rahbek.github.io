{
 "cells": [
  {
   "cell_type": "markdown",
   "metadata": {},
   "source": [
    "# Load Data"
   ]
  },
  {
   "cell_type": "code",
   "execution_count": 2,
   "metadata": {},
   "outputs": [
    {
     "name": "stderr",
     "output_type": "stream",
     "text": [
      "/var/folders/1j/15c8wxfx0rz57_sf9j19y3fh0000gp/T/ipykernel_34169/3145598073.py:15: DtypeWarning: Columns (19) have mixed types. Specify dtype option on import or set low_memory=False.\n",
      "  data = pd.read_csv('/Users/Gustav/Downloads/311_Cases0105.csv', usecols=cols_of_interest)\n"
     ]
    }
   ],
   "source": [
    "import numpy as np\n",
    "import pandas as pd\n",
    "import matplotlib.pyplot as plt\n",
    "\n",
    "import folium\n",
    "from folium import plugins\n",
    "from folium.plugins import HeatMap\n",
    "\n",
    "plt.rcParams[\"font.family\"] = \"Garamond\"\n",
    "plt.rcParams['axes.facecolor'] = \"#E8ECEB\"\n",
    "plt.rcParams['axes.facecolor'] = \"#E8ECEB\"\n",
    "\n",
    "cols_of_interest = ['Opened', 'Closed', 'Updated', 'Status', 'Status Notes', 'Responsible Agency', 'Category', 'Request Type', 'Request Details', 'Address', 'Supervisor District', 'Neighborhood', 'Latitude', 'Longitude', 'Source', 'Media URL']\n",
    "\n",
    "data = pd.read_csv('/Users/Gustav/Downloads/311_Cases0105.csv', usecols=cols_of_interest)"
   ]
  },
  {
   "cell_type": "code",
   "execution_count": 3,
   "metadata": {},
   "outputs": [
    {
     "data": {
      "text/plain": [
       "Loose Garbage and Debris                   810935\n",
       "Furniture, Mattresses and Refrigerators    540974\n",
       "Boxed or Bagged Items                      287794\n",
       "Human or Animal Waste                      257784\n",
       "Overflowing City Garbage Can               142716\n",
       "Electronics                                 60910\n",
       "Glass                                       52834\n",
       "Needles                                     51013\n",
       "Liquids - Oil/Paint/Other                   27098\n",
       "Transit Shelter Platform                    15106\n",
       "Christmas Tree                              10101\n",
       "Missed Route Mechanical Sweeping             6277\n",
       "Paper Spill                                  5260\n",
       "Tires                                        4800\n",
       "Hazardous Waste Containers                   4442\n",
       "Illegal Dumping                              1638\n",
       "Event Parade Mess                             951\n",
       "Car Batteries                                 390\n",
       "Missed Trash Recycle Compost Collection       389\n",
       "Medical Waste                                 301\n",
       "Sidewalk or Street Cleaning                   225\n",
       "Garbage Transit                                18\n",
       "Other Transit                                   7\n",
       "Post Abatement Inspection                       1\n",
       "Name: Request Details, dtype: int64"
      ]
     },
     "execution_count": 3,
     "metadata": {},
     "output_type": "execute_result"
    }
   ],
   "source": [
    "# convert to datetime\n",
    "data['Opened'] = pd.to_datetime(data['Opened'])\n",
    "# create a column called yearmonth that contain the year and month of the opened date\n",
    "data['yearmonth'] = data['Opened'].apply(lambda x: str(x.year) + '-' + str(x.month) + '-01')\n",
    "\n",
    "# take dataframe and get a count of every Request Details value summed by month and year\n",
    "df = data[(data['Category']==\"Street and Sidewalk Cleaning\")]\n",
    "# remove rows where latitude or longitude is null or zero\n",
    "df = df[(df['Latitude']!=0) | (df['Longitude']!=0)]\n",
    "\n",
    "### Fix Request details types that have different names but are the same\n",
    "## Garbage and Debris\n",
    "df['Request Details'] = df['Request Details'].replace(['Other Loose Garbage', 'Other Loose Garbage / Debris', 'Auto_accident_debris',\n",
    "                                                       'Garbage and Debris - N/A','Garbage and Debris - {{nature_of_request.label}}',\n",
    "                                                        'Garbage and Debris - {{request_type.label}}'],\n",
    "                                                        \"Loose Garbage and Debris\")\n",
    "## Overflowing city garbage can\n",
    "df['Request Details'] = df['Request Details'].replace(['City_garbage_can_overflowing', 'Overflowing city receptacle or dumpster',\n",
    "                                                        'Overflowing_City_Receptacle_or_Dumpster'], \"Overflowing City Garbage Can\")\n",
    "## Illegal dumping\n",
    "df['Request Details'] = df['Request Details'].replace(['Illegal Dumping', 'Illegal dumping', 'Illegal_Dumping'], \"Illegal Dumping\")\n",
    "## Furniture, mattresses and refrigerators\n",
    "df['Request Details'] = df['Request Details'].replace(['Furniture', 'Mattress', 'Refrigerator'], \"Furniture, Mattresses and Refrigerators\")\n",
    "## Sidewalk or street cleaning\n",
    "df['Request Details'] = df['Request Details'].replace(['Sidewalk_Cleaning', 'Sidewalk cleaning', 'Street_Cleaning', 'Street cleaning'], \"Sidewalk or Street Cleaning\")\n",
    "## Missed Route Mechanical Sweeping\n",
    "df['Request Details'] = df['Request Details'].replace(['Missed_Route_Mechanical_Sweeping', 'Missed route - mechanical sweeping'], \"Missed Route Mechanical Sweeping\")\n",
    "\n",
    "\n",
    "### Rename some values to be more pretty\n",
    "## Transit_shelter_platform\n",
    "df['Request Details'] = df['Request Details'].replace(['Transit_shelter_platform'], \"Transit Shelter Platform\")\n",
    "## Christmas tree\n",
    "df['Request Details'] = df['Request Details'].replace(['Christmas_tree'], \"Christmas Tree\")\n",
    "## Event_parade_mess\n",
    "df['Request Details'] = df['Request Details'].replace(['Event_parade_mess'], \"Event Parade Mess\")\n",
    "## Missed_TrashRecycleCompost_Collection\n",
    "df['Request Details'] = df['Request Details'].replace(['Missed_TrashRecycleCompost_Collection'], \"Missed Trash Recycle Compost Collection\")\n",
    "## Medical_waste\n",
    "df['Request Details'] = df['Request Details'].replace(['Medical_waste'], \"Medical Waste\")\n",
    "## GarbageTransit\n",
    "df['Request Details'] = df['Request Details'].replace(['GarbageTransit'], \"Garbage Transit\")\n",
    "## OtherTransit\n",
    "df['Request Details'] = df['Request Details'].replace(['OtherTransit'], \"Other Transit\")\n",
    "## PostAbatementInspection\n",
    "df['Request Details'] = df['Request Details'].replace(['PostAbatementInspection'], \"Post Abatement Inspection\")\n",
    "\n",
    "\n",
    "# print the unique values of Request Details and their counts\n",
    "df['Request Details'].value_counts()"
   ]
  },
  {
   "cell_type": "code",
   "execution_count": 4,
   "metadata": {},
   "outputs": [
    {
     "data": {
      "text/html": [
       "<div>\n",
       "<style scoped>\n",
       "    .dataframe tbody tr th:only-of-type {\n",
       "        vertical-align: middle;\n",
       "    }\n",
       "\n",
       "    .dataframe tbody tr th {\n",
       "        vertical-align: top;\n",
       "    }\n",
       "\n",
       "    .dataframe thead th {\n",
       "        text-align: right;\n",
       "    }\n",
       "</style>\n",
       "<table border=\"1\" class=\"dataframe\">\n",
       "  <thead>\n",
       "    <tr style=\"text-align: right;\">\n",
       "      <th></th>\n",
       "      <th>Opened</th>\n",
       "      <th>Closed</th>\n",
       "      <th>Updated</th>\n",
       "      <th>Status</th>\n",
       "      <th>Status Notes</th>\n",
       "      <th>Responsible Agency</th>\n",
       "      <th>Category</th>\n",
       "      <th>Request Type</th>\n",
       "      <th>Request Details</th>\n",
       "      <th>Address</th>\n",
       "      <th>Supervisor District</th>\n",
       "      <th>Neighborhood</th>\n",
       "      <th>Latitude</th>\n",
       "      <th>Longitude</th>\n",
       "      <th>Source</th>\n",
       "      <th>Media URL</th>\n",
       "      <th>yearmonth</th>\n",
       "      <th>Year</th>\n",
       "    </tr>\n",
       "  </thead>\n",
       "  <tbody>\n",
       "    <tr>\n",
       "      <th>54</th>\n",
       "      <td>2008-11-15 08:07:43</td>\n",
       "      <td>11/19/2008 02:06:59 PM</td>\n",
       "      <td>11/19/2008 02:06:59 PM</td>\n",
       "      <td>Closed</td>\n",
       "      <td>See Notes tab for more details</td>\n",
       "      <td>DPW Ops Queue</td>\n",
       "      <td>Street and Sidewalk Cleaning</td>\n",
       "      <td>General Cleaning</td>\n",
       "      <td>Loose Garbage and Debris</td>\n",
       "      <td>Intersection of CAMBRIDGE ST and GLADSTONE DR</td>\n",
       "      <td>11.0</td>\n",
       "      <td>Mission Terrace</td>\n",
       "      <td>37.731464</td>\n",
       "      <td>-122.420189</td>\n",
       "      <td>Phone</td>\n",
       "      <td>NaN</td>\n",
       "      <td>2008-11-01</td>\n",
       "      <td>2008</td>\n",
       "    </tr>\n",
       "    <tr>\n",
       "      <th>59</th>\n",
       "      <td>2008-11-14 14:44:35</td>\n",
       "      <td>11/15/2008 06:07:03 AM</td>\n",
       "      <td>11/15/2008 06:07:03 AM</td>\n",
       "      <td>Closed</td>\n",
       "      <td>See Notes tab for more details</td>\n",
       "      <td>DPW Ops Queue</td>\n",
       "      <td>Street and Sidewalk Cleaning</td>\n",
       "      <td>General Cleaning</td>\n",
       "      <td>Loose Garbage and Debris</td>\n",
       "      <td>Intersection of 17TH AVE and CABRILLO ST</td>\n",
       "      <td>1.0</td>\n",
       "      <td>Inner Richmond</td>\n",
       "      <td>37.774830</td>\n",
       "      <td>-122.475754</td>\n",
       "      <td>Phone</td>\n",
       "      <td>NaN</td>\n",
       "      <td>2008-11-01</td>\n",
       "      <td>2008</td>\n",
       "    </tr>\n",
       "    <tr>\n",
       "      <th>65</th>\n",
       "      <td>2008-11-10 08:10:22</td>\n",
       "      <td>11/12/2008 03:06:59 PM</td>\n",
       "      <td>11/12/2008 03:06:59 PM</td>\n",
       "      <td>Closed</td>\n",
       "      <td>See Notes tab for more details</td>\n",
       "      <td>DPW Ops Queue</td>\n",
       "      <td>Street and Sidewalk Cleaning</td>\n",
       "      <td>General Cleaning</td>\n",
       "      <td>Loose Garbage and Debris</td>\n",
       "      <td>28 13TH ST, SAN FRANCISCO, CA, 94103</td>\n",
       "      <td>6.0</td>\n",
       "      <td>South of Market</td>\n",
       "      <td>37.769745</td>\n",
       "      <td>-122.413742</td>\n",
       "      <td>Phone</td>\n",
       "      <td>NaN</td>\n",
       "      <td>2008-11-01</td>\n",
       "      <td>2008</td>\n",
       "    </tr>\n",
       "    <tr>\n",
       "      <th>71</th>\n",
       "      <td>2008-11-05 12:42:54</td>\n",
       "      <td>11/06/2008 06:06:57 AM</td>\n",
       "      <td>11/06/2008 06:06:57 AM</td>\n",
       "      <td>Closed</td>\n",
       "      <td>See Notes tab for more details</td>\n",
       "      <td>DPW Ops Queue</td>\n",
       "      <td>Street and Sidewalk Cleaning</td>\n",
       "      <td>General Cleaning</td>\n",
       "      <td>Loose Garbage and Debris</td>\n",
       "      <td>Intersection of 18TH ST and CASTRO ST</td>\n",
       "      <td>8.0</td>\n",
       "      <td>Castro</td>\n",
       "      <td>37.760887</td>\n",
       "      <td>-122.434998</td>\n",
       "      <td>Phone</td>\n",
       "      <td>NaN</td>\n",
       "      <td>2008-11-01</td>\n",
       "      <td>2008</td>\n",
       "    </tr>\n",
       "    <tr>\n",
       "      <th>77</th>\n",
       "      <td>2008-11-03 12:19:28</td>\n",
       "      <td>11/06/2008 06:07:10 AM</td>\n",
       "      <td>11/06/2008 06:07:10 AM</td>\n",
       "      <td>Closed</td>\n",
       "      <td>See Notes tab for more details</td>\n",
       "      <td>DPW Ops Queue</td>\n",
       "      <td>Street and Sidewalk Cleaning</td>\n",
       "      <td>Bulky Items</td>\n",
       "      <td>Furniture, Mattresses and Refrigerators</td>\n",
       "      <td>5401 MISSION ST, SAN FRANCISCO, CA, 94112</td>\n",
       "      <td>11.0</td>\n",
       "      <td>Crocker Amazon</td>\n",
       "      <td>37.713654</td>\n",
       "      <td>-122.443405</td>\n",
       "      <td>Phone</td>\n",
       "      <td>NaN</td>\n",
       "      <td>2008-11-01</td>\n",
       "      <td>2008</td>\n",
       "    </tr>\n",
       "  </tbody>\n",
       "</table>\n",
       "</div>"
      ],
      "text/plain": [
       "                Opened                  Closed                 Updated  \\\n",
       "54 2008-11-15 08:07:43  11/19/2008 02:06:59 PM  11/19/2008 02:06:59 PM   \n",
       "59 2008-11-14 14:44:35  11/15/2008 06:07:03 AM  11/15/2008 06:07:03 AM   \n",
       "65 2008-11-10 08:10:22  11/12/2008 03:06:59 PM  11/12/2008 03:06:59 PM   \n",
       "71 2008-11-05 12:42:54  11/06/2008 06:06:57 AM  11/06/2008 06:06:57 AM   \n",
       "77 2008-11-03 12:19:28  11/06/2008 06:07:10 AM  11/06/2008 06:07:10 AM   \n",
       "\n",
       "    Status                    Status Notes Responsible Agency  \\\n",
       "54  Closed  See Notes tab for more details      DPW Ops Queue   \n",
       "59  Closed  See Notes tab for more details      DPW Ops Queue   \n",
       "65  Closed  See Notes tab for more details      DPW Ops Queue   \n",
       "71  Closed  See Notes tab for more details      DPW Ops Queue   \n",
       "77  Closed  See Notes tab for more details      DPW Ops Queue   \n",
       "\n",
       "                        Category      Request Type  \\\n",
       "54  Street and Sidewalk Cleaning  General Cleaning   \n",
       "59  Street and Sidewalk Cleaning  General Cleaning   \n",
       "65  Street and Sidewalk Cleaning  General Cleaning   \n",
       "71  Street and Sidewalk Cleaning  General Cleaning   \n",
       "77  Street and Sidewalk Cleaning       Bulky Items   \n",
       "\n",
       "                            Request Details  \\\n",
       "54                 Loose Garbage and Debris   \n",
       "59                 Loose Garbage and Debris   \n",
       "65                 Loose Garbage and Debris   \n",
       "71                 Loose Garbage and Debris   \n",
       "77  Furniture, Mattresses and Refrigerators   \n",
       "\n",
       "                                          Address  Supervisor District  \\\n",
       "54  Intersection of CAMBRIDGE ST and GLADSTONE DR                 11.0   \n",
       "59       Intersection of 17TH AVE and CABRILLO ST                  1.0   \n",
       "65           28 13TH ST, SAN FRANCISCO, CA, 94103                  6.0   \n",
       "71          Intersection of 18TH ST and CASTRO ST                  8.0   \n",
       "77      5401 MISSION ST, SAN FRANCISCO, CA, 94112                 11.0   \n",
       "\n",
       "       Neighborhood   Latitude   Longitude Source Media URL   yearmonth  Year  \n",
       "54  Mission Terrace  37.731464 -122.420189  Phone       NaN  2008-11-01  2008  \n",
       "59   Inner Richmond  37.774830 -122.475754  Phone       NaN  2008-11-01  2008  \n",
       "65  South of Market  37.769745 -122.413742  Phone       NaN  2008-11-01  2008  \n",
       "71           Castro  37.760887 -122.434998  Phone       NaN  2008-11-01  2008  \n",
       "77   Crocker Amazon  37.713654 -122.443405  Phone       NaN  2008-11-01  2008  "
      ]
     },
     "execution_count": 4,
     "metadata": {},
     "output_type": "execute_result"
    }
   ],
   "source": [
    "df['Year'] = df['Opened'].dt.year\n",
    "\n",
    "df.head()"
   ]
  },
  {
   "cell_type": "code",
   "execution_count": 12,
   "metadata": {},
   "outputs": [],
   "source": [
    "import pickle\n",
    "\n",
    "with open('data.pkl', 'wb') as f:\n",
    "    pickle.dump(df, f)"
   ]
  },
  {
   "cell_type": "markdown",
   "metadata": {},
   "source": [
    "# Loading Shortcut"
   ]
  },
  {
   "cell_type": "code",
   "execution_count": 20,
   "metadata": {},
   "outputs": [
    {
     "name": "stdout",
     "output_type": "stream",
     "text": [
      "/Users/Gustav/Desktop/DesktopV00183/DTU/2nd/SocialDA&Viz.nosync/SocialDataFinalProject/coding\n"
     ]
    }
   ],
   "source": [
    "!pwd"
   ]
  },
  {
   "cell_type": "code",
   "execution_count": 32,
   "metadata": {},
   "outputs": [
    {
     "data": {
      "application/vnd.plotly.v1+json": {
       "config": {
        "plotlyServerURL": "https://plot.ly"
       },
       "data": [
        {
         "hoverlabel": {
          "bgcolor": "gold"
         },
         "hovertemplate": [
          "<b>21.7k</b> <extra></extra>",
          "<b>46.4k</b> <extra></extra>",
          "<b>47.9k</b> <extra></extra>",
          "<b>55.6k</b> <extra></extra>",
          "<b>55.4k</b> <extra></extra>",
          "<b>69.8k</b> <extra></extra>",
          "<b>90.9k</b> <extra></extra>",
          "<b>111.0k</b> <extra></extra>",
          "<b>162.2k</b> <extra></extra>",
          "<b>191.9k</b> <extra></extra>",
          "<b>223.5k</b> <extra></extra>",
          "<b>247.5k</b> <extra></extra>",
          "<b>278.3k</b> <extra></extra>",
          "<b>278.6k</b> <extra></extra>",
          "<b>293.4k</b> <extra></extra>"
         ],
         "marker": {
          "color": "#487C4F",
          "line": {
           "color": "black",
           "width": 1
          }
         },
         "type": "bar",
         "x": [
          2008,
          2009,
          2010,
          2011,
          2012,
          2013,
          2014,
          2015,
          2016,
          2017,
          2018,
          2019,
          2020,
          2021,
          2022
         ],
         "y": [
          21656,
          46403,
          47889,
          55570,
          55418,
          69788,
          90866,
          111042,
          162240,
          191941,
          223468,
          247515,
          278315,
          278646,
          293425
         ]
        }
       ],
       "layout": {
        "autosize": true,
        "font": {
         "family": "Garamond",
         "size": 18
        },
        "height": 550,
        "margin": {
         "b": 0,
         "l": 10,
         "r": 10,
         "t": 0
        },
        "paper_bgcolor": "#E8ECEB",
        "plot_bgcolor": "#E8ECEB",
        "template": {
         "data": {
          "bar": [
           {
            "error_x": {
             "color": "#2a3f5f"
            },
            "error_y": {
             "color": "#2a3f5f"
            },
            "marker": {
             "line": {
              "color": "#E5ECF6",
              "width": 0.5
             },
             "pattern": {
              "fillmode": "overlay",
              "size": 10,
              "solidity": 0.2
             }
            },
            "type": "bar"
           }
          ],
          "barpolar": [
           {
            "marker": {
             "line": {
              "color": "#E5ECF6",
              "width": 0.5
             },
             "pattern": {
              "fillmode": "overlay",
              "size": 10,
              "solidity": 0.2
             }
            },
            "type": "barpolar"
           }
          ],
          "carpet": [
           {
            "aaxis": {
             "endlinecolor": "#2a3f5f",
             "gridcolor": "white",
             "linecolor": "white",
             "minorgridcolor": "white",
             "startlinecolor": "#2a3f5f"
            },
            "baxis": {
             "endlinecolor": "#2a3f5f",
             "gridcolor": "white",
             "linecolor": "white",
             "minorgridcolor": "white",
             "startlinecolor": "#2a3f5f"
            },
            "type": "carpet"
           }
          ],
          "choropleth": [
           {
            "colorbar": {
             "outlinewidth": 0,
             "ticks": ""
            },
            "type": "choropleth"
           }
          ],
          "contour": [
           {
            "colorbar": {
             "outlinewidth": 0,
             "ticks": ""
            },
            "colorscale": [
             [
              0,
              "#0d0887"
             ],
             [
              0.1111111111111111,
              "#46039f"
             ],
             [
              0.2222222222222222,
              "#7201a8"
             ],
             [
              0.3333333333333333,
              "#9c179e"
             ],
             [
              0.4444444444444444,
              "#bd3786"
             ],
             [
              0.5555555555555556,
              "#d8576b"
             ],
             [
              0.6666666666666666,
              "#ed7953"
             ],
             [
              0.7777777777777778,
              "#fb9f3a"
             ],
             [
              0.8888888888888888,
              "#fdca26"
             ],
             [
              1,
              "#f0f921"
             ]
            ],
            "type": "contour"
           }
          ],
          "contourcarpet": [
           {
            "colorbar": {
             "outlinewidth": 0,
             "ticks": ""
            },
            "type": "contourcarpet"
           }
          ],
          "heatmap": [
           {
            "colorbar": {
             "outlinewidth": 0,
             "ticks": ""
            },
            "colorscale": [
             [
              0,
              "#0d0887"
             ],
             [
              0.1111111111111111,
              "#46039f"
             ],
             [
              0.2222222222222222,
              "#7201a8"
             ],
             [
              0.3333333333333333,
              "#9c179e"
             ],
             [
              0.4444444444444444,
              "#bd3786"
             ],
             [
              0.5555555555555556,
              "#d8576b"
             ],
             [
              0.6666666666666666,
              "#ed7953"
             ],
             [
              0.7777777777777778,
              "#fb9f3a"
             ],
             [
              0.8888888888888888,
              "#fdca26"
             ],
             [
              1,
              "#f0f921"
             ]
            ],
            "type": "heatmap"
           }
          ],
          "heatmapgl": [
           {
            "colorbar": {
             "outlinewidth": 0,
             "ticks": ""
            },
            "colorscale": [
             [
              0,
              "#0d0887"
             ],
             [
              0.1111111111111111,
              "#46039f"
             ],
             [
              0.2222222222222222,
              "#7201a8"
             ],
             [
              0.3333333333333333,
              "#9c179e"
             ],
             [
              0.4444444444444444,
              "#bd3786"
             ],
             [
              0.5555555555555556,
              "#d8576b"
             ],
             [
              0.6666666666666666,
              "#ed7953"
             ],
             [
              0.7777777777777778,
              "#fb9f3a"
             ],
             [
              0.8888888888888888,
              "#fdca26"
             ],
             [
              1,
              "#f0f921"
             ]
            ],
            "type": "heatmapgl"
           }
          ],
          "histogram": [
           {
            "marker": {
             "pattern": {
              "fillmode": "overlay",
              "size": 10,
              "solidity": 0.2
             }
            },
            "type": "histogram"
           }
          ],
          "histogram2d": [
           {
            "colorbar": {
             "outlinewidth": 0,
             "ticks": ""
            },
            "colorscale": [
             [
              0,
              "#0d0887"
             ],
             [
              0.1111111111111111,
              "#46039f"
             ],
             [
              0.2222222222222222,
              "#7201a8"
             ],
             [
              0.3333333333333333,
              "#9c179e"
             ],
             [
              0.4444444444444444,
              "#bd3786"
             ],
             [
              0.5555555555555556,
              "#d8576b"
             ],
             [
              0.6666666666666666,
              "#ed7953"
             ],
             [
              0.7777777777777778,
              "#fb9f3a"
             ],
             [
              0.8888888888888888,
              "#fdca26"
             ],
             [
              1,
              "#f0f921"
             ]
            ],
            "type": "histogram2d"
           }
          ],
          "histogram2dcontour": [
           {
            "colorbar": {
             "outlinewidth": 0,
             "ticks": ""
            },
            "colorscale": [
             [
              0,
              "#0d0887"
             ],
             [
              0.1111111111111111,
              "#46039f"
             ],
             [
              0.2222222222222222,
              "#7201a8"
             ],
             [
              0.3333333333333333,
              "#9c179e"
             ],
             [
              0.4444444444444444,
              "#bd3786"
             ],
             [
              0.5555555555555556,
              "#d8576b"
             ],
             [
              0.6666666666666666,
              "#ed7953"
             ],
             [
              0.7777777777777778,
              "#fb9f3a"
             ],
             [
              0.8888888888888888,
              "#fdca26"
             ],
             [
              1,
              "#f0f921"
             ]
            ],
            "type": "histogram2dcontour"
           }
          ],
          "mesh3d": [
           {
            "colorbar": {
             "outlinewidth": 0,
             "ticks": ""
            },
            "type": "mesh3d"
           }
          ],
          "parcoords": [
           {
            "line": {
             "colorbar": {
              "outlinewidth": 0,
              "ticks": ""
             }
            },
            "type": "parcoords"
           }
          ],
          "pie": [
           {
            "automargin": true,
            "type": "pie"
           }
          ],
          "scatter": [
           {
            "fillpattern": {
             "fillmode": "overlay",
             "size": 10,
             "solidity": 0.2
            },
            "type": "scatter"
           }
          ],
          "scatter3d": [
           {
            "line": {
             "colorbar": {
              "outlinewidth": 0,
              "ticks": ""
             }
            },
            "marker": {
             "colorbar": {
              "outlinewidth": 0,
              "ticks": ""
             }
            },
            "type": "scatter3d"
           }
          ],
          "scattercarpet": [
           {
            "marker": {
             "colorbar": {
              "outlinewidth": 0,
              "ticks": ""
             }
            },
            "type": "scattercarpet"
           }
          ],
          "scattergeo": [
           {
            "marker": {
             "colorbar": {
              "outlinewidth": 0,
              "ticks": ""
             }
            },
            "type": "scattergeo"
           }
          ],
          "scattergl": [
           {
            "marker": {
             "colorbar": {
              "outlinewidth": 0,
              "ticks": ""
             }
            },
            "type": "scattergl"
           }
          ],
          "scattermapbox": [
           {
            "marker": {
             "colorbar": {
              "outlinewidth": 0,
              "ticks": ""
             }
            },
            "type": "scattermapbox"
           }
          ],
          "scatterpolar": [
           {
            "marker": {
             "colorbar": {
              "outlinewidth": 0,
              "ticks": ""
             }
            },
            "type": "scatterpolar"
           }
          ],
          "scatterpolargl": [
           {
            "marker": {
             "colorbar": {
              "outlinewidth": 0,
              "ticks": ""
             }
            },
            "type": "scatterpolargl"
           }
          ],
          "scatterternary": [
           {
            "marker": {
             "colorbar": {
              "outlinewidth": 0,
              "ticks": ""
             }
            },
            "type": "scatterternary"
           }
          ],
          "surface": [
           {
            "colorbar": {
             "outlinewidth": 0,
             "ticks": ""
            },
            "colorscale": [
             [
              0,
              "#0d0887"
             ],
             [
              0.1111111111111111,
              "#46039f"
             ],
             [
              0.2222222222222222,
              "#7201a8"
             ],
             [
              0.3333333333333333,
              "#9c179e"
             ],
             [
              0.4444444444444444,
              "#bd3786"
             ],
             [
              0.5555555555555556,
              "#d8576b"
             ],
             [
              0.6666666666666666,
              "#ed7953"
             ],
             [
              0.7777777777777778,
              "#fb9f3a"
             ],
             [
              0.8888888888888888,
              "#fdca26"
             ],
             [
              1,
              "#f0f921"
             ]
            ],
            "type": "surface"
           }
          ],
          "table": [
           {
            "cells": {
             "fill": {
              "color": "#EBF0F8"
             },
             "line": {
              "color": "white"
             }
            },
            "header": {
             "fill": {
              "color": "#C8D4E3"
             },
             "line": {
              "color": "white"
             }
            },
            "type": "table"
           }
          ]
         },
         "layout": {
          "annotationdefaults": {
           "arrowcolor": "#2a3f5f",
           "arrowhead": 0,
           "arrowwidth": 1
          },
          "autotypenumbers": "strict",
          "coloraxis": {
           "colorbar": {
            "outlinewidth": 0,
            "ticks": ""
           }
          },
          "colorscale": {
           "diverging": [
            [
             0,
             "#8e0152"
            ],
            [
             0.1,
             "#c51b7d"
            ],
            [
             0.2,
             "#de77ae"
            ],
            [
             0.3,
             "#f1b6da"
            ],
            [
             0.4,
             "#fde0ef"
            ],
            [
             0.5,
             "#f7f7f7"
            ],
            [
             0.6,
             "#e6f5d0"
            ],
            [
             0.7,
             "#b8e186"
            ],
            [
             0.8,
             "#7fbc41"
            ],
            [
             0.9,
             "#4d9221"
            ],
            [
             1,
             "#276419"
            ]
           ],
           "sequential": [
            [
             0,
             "#0d0887"
            ],
            [
             0.1111111111111111,
             "#46039f"
            ],
            [
             0.2222222222222222,
             "#7201a8"
            ],
            [
             0.3333333333333333,
             "#9c179e"
            ],
            [
             0.4444444444444444,
             "#bd3786"
            ],
            [
             0.5555555555555556,
             "#d8576b"
            ],
            [
             0.6666666666666666,
             "#ed7953"
            ],
            [
             0.7777777777777778,
             "#fb9f3a"
            ],
            [
             0.8888888888888888,
             "#fdca26"
            ],
            [
             1,
             "#f0f921"
            ]
           ],
           "sequentialminus": [
            [
             0,
             "#0d0887"
            ],
            [
             0.1111111111111111,
             "#46039f"
            ],
            [
             0.2222222222222222,
             "#7201a8"
            ],
            [
             0.3333333333333333,
             "#9c179e"
            ],
            [
             0.4444444444444444,
             "#bd3786"
            ],
            [
             0.5555555555555556,
             "#d8576b"
            ],
            [
             0.6666666666666666,
             "#ed7953"
            ],
            [
             0.7777777777777778,
             "#fb9f3a"
            ],
            [
             0.8888888888888888,
             "#fdca26"
            ],
            [
             1,
             "#f0f921"
            ]
           ]
          },
          "colorway": [
           "#636efa",
           "#EF553B",
           "#00cc96",
           "#ab63fa",
           "#FFA15A",
           "#19d3f3",
           "#FF6692",
           "#B6E880",
           "#FF97FF",
           "#FECB52"
          ],
          "font": {
           "color": "#2a3f5f"
          },
          "geo": {
           "bgcolor": "white",
           "lakecolor": "white",
           "landcolor": "#E5ECF6",
           "showlakes": true,
           "showland": true,
           "subunitcolor": "white"
          },
          "hoverlabel": {
           "align": "left"
          },
          "hovermode": "closest",
          "mapbox": {
           "style": "light"
          },
          "paper_bgcolor": "white",
          "plot_bgcolor": "#E5ECF6",
          "polar": {
           "angularaxis": {
            "gridcolor": "white",
            "linecolor": "white",
            "ticks": ""
           },
           "bgcolor": "#E5ECF6",
           "radialaxis": {
            "gridcolor": "white",
            "linecolor": "white",
            "ticks": ""
           }
          },
          "scene": {
           "xaxis": {
            "backgroundcolor": "#E5ECF6",
            "gridcolor": "white",
            "gridwidth": 2,
            "linecolor": "white",
            "showbackground": true,
            "ticks": "",
            "zerolinecolor": "white"
           },
           "yaxis": {
            "backgroundcolor": "#E5ECF6",
            "gridcolor": "white",
            "gridwidth": 2,
            "linecolor": "white",
            "showbackground": true,
            "ticks": "",
            "zerolinecolor": "white"
           },
           "zaxis": {
            "backgroundcolor": "#E5ECF6",
            "gridcolor": "white",
            "gridwidth": 2,
            "linecolor": "white",
            "showbackground": true,
            "ticks": "",
            "zerolinecolor": "white"
           }
          },
          "shapedefaults": {
           "line": {
            "color": "#2a3f5f"
           }
          },
          "ternary": {
           "aaxis": {
            "gridcolor": "white",
            "linecolor": "white",
            "ticks": ""
           },
           "baxis": {
            "gridcolor": "white",
            "linecolor": "white",
            "ticks": ""
           },
           "bgcolor": "#E5ECF6",
           "caxis": {
            "gridcolor": "white",
            "linecolor": "white",
            "ticks": ""
           }
          },
          "title": {
           "x": 0.05
          },
          "xaxis": {
           "automargin": true,
           "gridcolor": "white",
           "linecolor": "white",
           "ticks": "",
           "title": {
            "standoff": 15
           },
           "zerolinecolor": "white",
           "zerolinewidth": 2
          },
          "yaxis": {
           "automargin": true,
           "gridcolor": "white",
           "linecolor": "white",
           "ticks": "",
           "title": {
            "standoff": 15
           },
           "zerolinecolor": "white",
           "zerolinewidth": 2
          }
         }
        },
        "width": 950,
        "xaxis": {
         "dtick": 1,
         "title": {
          "text": "Year"
         }
        },
        "yaxis": {
         "title": {
          "text": "Number of Requests"
         }
        }
       }
      }
     },
     "metadata": {},
     "output_type": "display_data"
    }
   ],
   "source": [
    "import plotly.graph_objs as go\n",
    "\n",
    "yearly_counts = df.groupby('Year').size()\n",
    "yearly_counts = yearly_counts.drop(2023)\n",
    "\n",
    "hover_text = [f\"<b>{val/1000:.1f}k</b> <extra></extra>\" if val >= 1000 else str(val) for val in yearly_counts.values]\n",
    "\n",
    "fig = go.Figure(go.Bar(\n",
    "    x=yearly_counts.index,\n",
    "    y=yearly_counts.values,\n",
    "    hovertemplate=hover_text,\n",
    "    marker_color='#487C4F',\n",
    "    marker_line_color='black',\n",
    "    marker_line_width=1,\n",
    "    hoverlabel=dict(bgcolor=\"gold\"),\n",
    "))\n",
    "\n",
    "# Set x-axis ticks to show all years\n",
    "fig.update_layout(xaxis=dict(dtick=1))\n",
    "\n",
    "fig.update_layout(height = 550,\n",
    "                    width = 950,\n",
    "                    autosize=True,\n",
    "                    paper_bgcolor= \"#E8ECEB\",\n",
    "                    margin={\"r\":10,\"t\":0,\"l\":10,\"b\":0},\n",
    "                    font_family = \"Garamond\",\n",
    "                    font_size = 18,\n",
    "                    xaxis_title=\"Year\",\n",
    "                    yaxis_title=\"Number of Requests\",\n",
    "                    )\n",
    "fig.update_layout(\n",
    "    plot_bgcolor='#E8ECEB'\n",
    ")\n",
    "\n",
    "fig.show()\n",
    "fig.write_html('/Users/Gustav/Desktop/DesktopV00183/DTU/2nd/SocialDA&Viz.nosync/SocialDataFinalProject/assets/images/BarChart.html')\n"
   ]
  },
  {
   "cell_type": "code",
   "execution_count": null,
   "metadata": {},
   "outputs": [],
   "source": []
  },
  {
   "cell_type": "code",
   "execution_count": null,
   "metadata": {},
   "outputs": [],
   "source": []
  },
  {
   "cell_type": "code",
   "execution_count": null,
   "metadata": {},
   "outputs": [],
   "source": []
  }
 ],
 "metadata": {
  "kernelspec": {
   "display_name": "Python 3 (ipykernel)",
   "language": "python",
   "name": "python3"
  },
  "language_info": {
   "codemirror_mode": {
    "name": "ipython",
    "version": 3
   },
   "file_extension": ".py",
   "mimetype": "text/x-python",
   "name": "python",
   "nbconvert_exporter": "python",
   "pygments_lexer": "ipython3",
   "version": "3.8.12"
  }
 },
 "nbformat": 4,
 "nbformat_minor": 4
}
